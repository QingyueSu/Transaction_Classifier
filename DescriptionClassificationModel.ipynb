{
 "cells": [
  {
   "cell_type": "markdown",
   "metadata": {},
   "source": [
    "<h1 align=\"center\"><font size=\"5\"> SVM Model for Text Classification</font></h1>\n",
    "<h1 align=\"center\"><font size=\"3\"> by Sue</font></h1>"
   ]
  },
  {
   "cell_type": "markdown",
   "metadata": {},
   "source": [
    "<h1 align=\"left\"><font size=\"3\">README  </font></h1>\n",
    "This notebook contains SVM model setup. This SVM model can perform text classfication for the transaction category.\n",
    "It will be persist using joblib and save as 'text_SVM_clf.pkl'."
   ]
  },
  {
   "cell_type": "markdown",
   "metadata": {},
   "source": [
    "Lets first import required libraries:"
   ]
  },
  {
   "cell_type": "code",
   "execution_count": 1,
   "metadata": {},
   "outputs": [],
   "source": [
    "#might need to uncomment and install the joblib and pymysql libraries if you have not installed these before、\n",
    "#!conda install -c conda-forge joblib -y\n",
    "#!conda install -c conda-forge pymysql -y"
   ]
  },
  {
   "cell_type": "code",
   "execution_count": 39,
   "metadata": {},
   "outputs": [],
   "source": [
    "import pandas as pd\n",
    "import numpy as np\n",
    "from sklearn import preprocessing\n",
    "from sklearn.metrics import accuracy_score\n",
    "from sklearn.model_selection import train_test_split\n",
    "from sklearn.pipeline import Pipeline\n",
    "from sklearn.feature_extraction.text import CountVectorizer\n",
    "from sklearn.feature_extraction.text import TfidfTransformer\n",
    "from sklearn import svm\n",
    "from sklearn.externals import joblib\n",
    "from sklearn.feature_extraction import text \n",
    "import pymysql\n",
    "import matplotlib.pyplot as plt"
   ]
  },
  {
   "cell_type": "markdown",
   "metadata": {},
   "source": [
    "### Load Data From MySql\n",
    "\n",
    "<hr>"
   ]
  },
  {
   "cell_type": "markdown",
   "metadata": {},
   "source": [
    "### _Function get_mysql_data_\n",
    "- Parameters: string object that contains sql query\n",
    "- Returns   : Dataframe object \n",
    "- Does      : base on the query to get data from mysql"
   ]
  },
  {
   "cell_type": "code",
   "execution_count": 3,
   "metadata": {},
   "outputs": [],
   "source": [
    "def get_mysql_data(sql):\n",
    "    \"\"\"\n",
    "    Extract the data from MySQL and Transform the data into DataFrame type\n",
    "    parameter 'sql' means the MySQL query language, which is the only input of this function\n",
    "\n",
    "    \"\"\"\n",
    "    conn = pymysql.connect(\n",
    "        host='intern-dashboard.comal2agallf.us-east-1.rds.amazonaws.com',\n",
    "        user='intern_dashboard',\n",
    "        password='yEWAECzbMQma6yl3c6H9',\n",
    "        db='innodb',\n",
    "        port=3306\n",
    "    )\n",
    "    cur = conn.cursor()  # get the cursor, representing the beginning of operation\n",
    "    sql_select = sql  # import the query language\n",
    "    cur.execute(sql_select)  # excute the query language\n",
    "\n",
    "    result = cur.fetchall()  # get the output of the query\n",
    "    col_result = cur.description  # get the description of all the columns\n",
    "\n",
    "    columns = []\n",
    "    for i in range(len(col_result)):\n",
    "        columns.append(col_result[i][0])  # get the column names and save the names in a list style\n",
    "\n",
    "    df = pd.DataFrame(columns=columns)\n",
    "    for i in range(len(result)):\n",
    "        df.loc[i] = list(result[i])  # insert the data into the dataframe by rows\n",
    "\n",
    "    conn.close()  # close the connecter to the database\n",
    "\n",
    "    return df"
   ]
  },
  {
   "cell_type": "markdown",
   "metadata": {},
   "source": [
    "### _Function generate_Data_\n",
    "- Parameters: num is the integer value that represent the number of lines acquires from a single category\n",
    "- Returns   : Dataframe object \n",
    "- Does      : generate the training data set from the mysql database"
   ]
  },
  {
   "cell_type": "code",
   "execution_count": 4,
   "metadata": {},
   "outputs": [],
   "source": [
    "def generate_Data(num):\n",
    "    unique_Category = get_mysql_data(\"SELECT distinct category FROM transactions\").category.tolist()\n",
    "    df = pd.DataFrame(data = {'class_method': [], 'description': [],'is_confirm_client': [], 'is_confirm': [], 'category': []})\n",
    "    for x in unique_Category: \n",
    "        x = x.replace(\"'\", \"\\\\'\")\n",
    "        sql = \"SELECT class_method,description,is_confirm,is_confirm_client, category From transactions where category = '\" + str(x) + \"' LIMIT \" + str(num)\n",
    "        df_temp = get_mysql_data(sql)\n",
    "        #print(df_temp)\n",
    "        df = df.merge(df_temp,how = \"outer\")\n",
    "    return df\n"
   ]
  },
  {
   "cell_type": "code",
   "execution_count": 5,
   "metadata": {},
   "outputs": [],
   "source": [
    "#df = %time generate_Data(1)\n",
    "#x = 306\n",
    "#sql = \"SELECT class_method,description,is_confirm,is_confirm_client, category From transactions where user_id = \" + str(x) \n",
    "#sample = get_mysql_data(sql)\n",
    "#sample\n"
   ]
  },
  {
   "cell_type": "markdown",
   "metadata": {},
   "source": [
    "### Load Data From CSV File  \n",
    "<hr>"
   ]
  },
  {
   "cell_type": "code",
   "execution_count": 66,
   "metadata": {},
   "outputs": [
    {
     "data": {
      "text/html": [
       "<div>\n",
       "<style scoped>\n",
       "    .dataframe tbody tr th:only-of-type {\n",
       "        vertical-align: middle;\n",
       "    }\n",
       "\n",
       "    .dataframe tbody tr th {\n",
       "        vertical-align: top;\n",
       "    }\n",
       "\n",
       "    .dataframe thead th {\n",
       "        text-align: right;\n",
       "    }\n",
       "</style>\n",
       "<table border=\"1\" class=\"dataframe\">\n",
       "  <thead>\n",
       "    <tr style=\"text-align: right;\">\n",
       "      <th></th>\n",
       "      <th>id</th>\n",
       "      <th>balances</th>\n",
       "      <th>mask</th>\n",
       "      <th>account_owner</th>\n",
       "      <th>amount</th>\n",
       "      <th>category_id</th>\n",
       "      <th>client_category</th>\n",
       "      <th>cpa_category</th>\n",
       "      <th>ml_accuracy</th>\n",
       "      <th>bank_accts_id</th>\n",
       "      <th>user_id</th>\n",
       "      <th>is_confirm</th>\n",
       "      <th>is_confirm_client</th>\n",
       "      <th>note</th>\n",
       "    </tr>\n",
       "  </thead>\n",
       "  <tbody>\n",
       "    <tr>\n",
       "      <th>count</th>\n",
       "      <td>411.000000</td>\n",
       "      <td>411.000000</td>\n",
       "      <td>411.0</td>\n",
       "      <td>0.0</td>\n",
       "      <td>411.000000</td>\n",
       "      <td>4.110000e+02</td>\n",
       "      <td>0.0</td>\n",
       "      <td>0.0</td>\n",
       "      <td>279.0</td>\n",
       "      <td>411.000000</td>\n",
       "      <td>411.0</td>\n",
       "      <td>411.0</td>\n",
       "      <td>411.0</td>\n",
       "      <td>0.0</td>\n",
       "    </tr>\n",
       "    <tr>\n",
       "      <th>mean</th>\n",
       "      <td>17216.824818</td>\n",
       "      <td>1383.172871</td>\n",
       "      <td>2740.0</td>\n",
       "      <td>NaN</td>\n",
       "      <td>-1223.919002</td>\n",
       "      <td>2.026842e+07</td>\n",
       "      <td>NaN</td>\n",
       "      <td>NaN</td>\n",
       "      <td>0.0</td>\n",
       "      <td>2.036496</td>\n",
       "      <td>306.0</td>\n",
       "      <td>1.0</td>\n",
       "      <td>0.0</td>\n",
       "      <td>NaN</td>\n",
       "    </tr>\n",
       "    <tr>\n",
       "      <th>std</th>\n",
       "      <td>3741.320669</td>\n",
       "      <td>407.743976</td>\n",
       "      <td>0.0</td>\n",
       "      <td>NaN</td>\n",
       "      <td>2779.878393</td>\n",
       "      <td>1.856439e+06</td>\n",
       "      <td>NaN</td>\n",
       "      <td>NaN</td>\n",
       "      <td>0.0</td>\n",
       "      <td>7.138773</td>\n",
       "      <td>0.0</td>\n",
       "      <td>0.0</td>\n",
       "      <td>0.0</td>\n",
       "      <td>NaN</td>\n",
       "    </tr>\n",
       "    <tr>\n",
       "      <th>min</th>\n",
       "      <td>4378.000000</td>\n",
       "      <td>1205.600000</td>\n",
       "      <td>2740.0</td>\n",
       "      <td>NaN</td>\n",
       "      <td>-14809.000000</td>\n",
       "      <td>1.200900e+07</td>\n",
       "      <td>NaN</td>\n",
       "      <td>NaN</td>\n",
       "      <td>0.0</td>\n",
       "      <td>0.000000</td>\n",
       "      <td>306.0</td>\n",
       "      <td>1.0</td>\n",
       "      <td>0.0</td>\n",
       "      <td>NaN</td>\n",
       "    </tr>\n",
       "    <tr>\n",
       "      <th>25%</th>\n",
       "      <td>17925.500000</td>\n",
       "      <td>1205.600000</td>\n",
       "      <td>2740.0</td>\n",
       "      <td>NaN</td>\n",
       "      <td>-1167.785000</td>\n",
       "      <td>2.100600e+07</td>\n",
       "      <td>NaN</td>\n",
       "      <td>NaN</td>\n",
       "      <td>0.0</td>\n",
       "      <td>0.000000</td>\n",
       "      <td>306.0</td>\n",
       "      <td>1.0</td>\n",
       "      <td>0.0</td>\n",
       "      <td>NaN</td>\n",
       "    </tr>\n",
       "    <tr>\n",
       "      <th>50%</th>\n",
       "      <td>18357.000000</td>\n",
       "      <td>1205.600000</td>\n",
       "      <td>2740.0</td>\n",
       "      <td>NaN</td>\n",
       "      <td>-303.000000</td>\n",
       "      <td>2.100600e+07</td>\n",
       "      <td>NaN</td>\n",
       "      <td>NaN</td>\n",
       "      <td>0.0</td>\n",
       "      <td>0.000000</td>\n",
       "      <td>306.0</td>\n",
       "      <td>1.0</td>\n",
       "      <td>0.0</td>\n",
       "      <td>NaN</td>\n",
       "    </tr>\n",
       "    <tr>\n",
       "      <th>75%</th>\n",
       "      <td>18819.500000</td>\n",
       "      <td>1205.600000</td>\n",
       "      <td>2740.0</td>\n",
       "      <td>NaN</td>\n",
       "      <td>-128.900000</td>\n",
       "      <td>2.100600e+07</td>\n",
       "      <td>NaN</td>\n",
       "      <td>NaN</td>\n",
       "      <td>0.0</td>\n",
       "      <td>0.000000</td>\n",
       "      <td>306.0</td>\n",
       "      <td>1.0</td>\n",
       "      <td>0.0</td>\n",
       "      <td>NaN</td>\n",
       "    </tr>\n",
       "    <tr>\n",
       "      <th>max</th>\n",
       "      <td>19431.000000</td>\n",
       "      <td>2709.210000</td>\n",
       "      <td>2740.0</td>\n",
       "      <td>NaN</td>\n",
       "      <td>25000.000000</td>\n",
       "      <td>2.101100e+07</td>\n",
       "      <td>NaN</td>\n",
       "      <td>NaN</td>\n",
       "      <td>0.0</td>\n",
       "      <td>27.000000</td>\n",
       "      <td>306.0</td>\n",
       "      <td>1.0</td>\n",
       "      <td>0.0</td>\n",
       "      <td>NaN</td>\n",
       "    </tr>\n",
       "  </tbody>\n",
       "</table>\n",
       "</div>"
      ],
      "text/plain": [
       "                 id     balances    mask  account_owner        amount  \\\n",
       "count    411.000000   411.000000   411.0            0.0    411.000000   \n",
       "mean   17216.824818  1383.172871  2740.0            NaN  -1223.919002   \n",
       "std     3741.320669   407.743976     0.0            NaN   2779.878393   \n",
       "min     4378.000000  1205.600000  2740.0            NaN -14809.000000   \n",
       "25%    17925.500000  1205.600000  2740.0            NaN  -1167.785000   \n",
       "50%    18357.000000  1205.600000  2740.0            NaN   -303.000000   \n",
       "75%    18819.500000  1205.600000  2740.0            NaN   -128.900000   \n",
       "max    19431.000000  2709.210000  2740.0            NaN  25000.000000   \n",
       "\n",
       "        category_id  client_category  cpa_category  ml_accuracy  \\\n",
       "count  4.110000e+02              0.0           0.0        279.0   \n",
       "mean   2.026842e+07              NaN           NaN          0.0   \n",
       "std    1.856439e+06              NaN           NaN          0.0   \n",
       "min    1.200900e+07              NaN           NaN          0.0   \n",
       "25%    2.100600e+07              NaN           NaN          0.0   \n",
       "50%    2.100600e+07              NaN           NaN          0.0   \n",
       "75%    2.100600e+07              NaN           NaN          0.0   \n",
       "max    2.101100e+07              NaN           NaN          0.0   \n",
       "\n",
       "       bank_accts_id  user_id  is_confirm  is_confirm_client  note  \n",
       "count     411.000000    411.0       411.0              411.0   0.0  \n",
       "mean        2.036496    306.0         1.0                0.0   NaN  \n",
       "std         7.138773      0.0         0.0                0.0   NaN  \n",
       "min         0.000000    306.0         1.0                0.0   NaN  \n",
       "25%         0.000000    306.0         1.0                0.0   NaN  \n",
       "50%         0.000000    306.0         1.0                0.0   NaN  \n",
       "75%         0.000000    306.0         1.0                0.0   NaN  \n",
       "max        27.000000    306.0         1.0                0.0   NaN  "
      ]
     },
     "execution_count": 66,
     "metadata": {},
     "output_type": "execute_result"
    }
   ],
   "source": [
    "df = pd.read_csv('data/ml(new).CSV')\n",
    "df.describe()"
   ]
  },
  {
   "cell_type": "code",
   "execution_count": 7,
   "metadata": {},
   "outputs": [
    {
     "data": {
      "text/plain": [
       "array(['Office Expense', 'Commission Expense', 'Contractor',\n",
       "       'Marketing Expense', 'Sales Revenue'], dtype=object)"
      ]
     },
     "execution_count": 7,
     "metadata": {},
     "output_type": "execute_result"
    }
   ],
   "source": [
    "df['category'].unique()"
   ]
  },
  {
   "cell_type": "markdown",
   "metadata": {},
   "source": [
    "<h2 id=\"preprocessing\">Data pre-processing and selection</h2>\n",
    "<hr>"
   ]
  },
  {
   "cell_type": "code",
   "execution_count": 63,
   "metadata": {},
   "outputs": [],
   "source": [
    "df = df[['class_method','description','is_confirm','is_confirm_client','category']]\n",
    "\n",
    "df = df.dropna(subset= ['description'])"
   ]
  },
  {
   "cell_type": "code",
   "execution_count": 9,
   "metadata": {},
   "outputs": [],
   "source": [
    "#remove class method equal to \"ML\" that is_confirm = 0\n",
    "df_temp = df[(df['class_method'] == 'ML') & (df['is_confirm'] == 1.0)]\n",
    "#remove class method equal to \"ML\" that is_confirm_client = 0\n",
    "df_confirm = df[(df['class_method'] == 'ML') & (df['is_confirm_client'] == 1.0)]\n",
    "#merge the two type of confirm data\n",
    "df_confirm = df_temp.merge(df_confirm, how = \"outer\" )"
   ]
  },
  {
   "cell_type": "code",
   "execution_count": 10,
   "metadata": {},
   "outputs": [
    {
     "name": "stdout",
     "output_type": "stream",
     "text": [
      "number of data each category\n",
      "Office Expense 1616\n",
      "Commission Expense 924\n",
      "Contractor 390\n",
      "Marketing Expense 21\n",
      "Sales Revenue 49\n",
      "total: 3000\n"
     ]
    }
   ],
   "source": [
    "print('number of data each category')\n",
    "total = 0\n",
    "for x in df_confirm['category'].unique() :\n",
    "    print(x, len(df_confirm[df_confirm['category'] == x]))\n",
    "    total = total + len(df_confirm[df_confirm['category'] == x])\n",
    "print('total:' , total)"
   ]
  },
  {
   "cell_type": "markdown",
   "metadata": {},
   "source": [
    "### _Function CategorySizePieChart_\n",
    "- Parameters: dataframe that will be plot\n",
    "- Returns   : None\n",
    "- Does      : Plot the dataframe base on its category szie"
   ]
  },
  {
   "cell_type": "code",
   "execution_count": 11,
   "metadata": {},
   "outputs": [],
   "source": [
    "def CategorySizePieChart(df):\n",
    "    labels = df['category'].unique()\n",
    "    sizes = [len(df[df['category'] == x]) for x in labels]\n",
    "\n",
    "    fig1, ax= plt.subplots(figsize=(10, 6), subplot_kw=dict(aspect=\"equal\"))\n",
    "    \n",
    "\n",
    "    wedges, texts, autotexts = ax.pie(sizes, autopct='%1.1f%%',\n",
    "                                  textprops=dict(color=\"w\"),  startangle=90)\n",
    "\n",
    "    ax.legend(wedges, labels,\n",
    "          title=\"Categories\",\n",
    "          loc=\"center left\",\n",
    "          bbox_to_anchor=(1, 0, 0.5, 1))\n",
    "    plt.setp(autotexts, size=8, weight=\"bold\")\n",
    "\n",
    "    ax.set_title(\"data in each category: a pie\")\n",
    "    ax.axis('equal')  # Equal aspect ratio ensures that pie is drawn as a circle.\n",
    "\n",
    "    plt.show()\n"
   ]
  },
  {
   "cell_type": "code",
   "execution_count": 12,
   "metadata": {},
   "outputs": [
    {
     "data": {
      "image/png": "[encoded data removed]",
      "text/plain": [
       "<Figure size 720x432 with 1 Axes>"
      ]
     },
     "metadata": {},
     "output_type": "display_data"
    }
   ],
   "source": [
    "CategorySizePieChart(df_confirm)"
   ]
  },
  {
   "cell_type": "code",
   "execution_count": 13,
   "metadata": {
    "scrolled": false
   },
   "outputs": [
    {
     "name": "stdout",
     "output_type": "stream",
     "text": [
      "unique description for each category\n",
      "Office Expense 105\n",
      "Commission Expense 1\n",
      "Contractor 4\n",
      "Marketing Expense 1\n",
      "Sales Revenue 1\n"
     ]
    }
   ],
   "source": [
    "print('unique description for each category')\n",
    "for x in df_confirm['category'].unique() :\n",
    "    print(x, len(df_confirm[df_confirm['category'] == x]['description'].unique()))\n",
    "#max_num = np.amax([len(df[df['category']== x]['description'].unique()) for x in category_set])"
   ]
  },
  {
   "cell_type": "markdown",
   "metadata": {},
   "source": [
    "### _Function balanceCategorySize_\n",
    "- Parameters: dataframe that need to be balance\n",
    "- Returns   : dataframe that every category size is at least the mean\n",
    "- Does      : enlarge category that size is less than average"
   ]
  },
  {
   "cell_type": "code",
   "execution_count": 14,
   "metadata": {
    "scrolled": true
   },
   "outputs": [
    {
     "data": {
      "text/html": [
       "<div>\n",
       "<style scoped>\n",
       "    .dataframe tbody tr th:only-of-type {\n",
       "        vertical-align: middle;\n",
       "    }\n",
       "\n",
       "    .dataframe tbody tr th {\n",
       "        vertical-align: top;\n",
       "    }\n",
       "\n",
       "    .dataframe thead th {\n",
       "        text-align: right;\n",
       "    }\n",
       "</style>\n",
       "<table border=\"1\" class=\"dataframe\">\n",
       "  <thead>\n",
       "    <tr style=\"text-align: right;\">\n",
       "      <th></th>\n",
       "      <th>class_method</th>\n",
       "      <th>description</th>\n",
       "      <th>is_confirm</th>\n",
       "      <th>is_confirm_client</th>\n",
       "      <th>category</th>\n",
       "    </tr>\n",
       "  </thead>\n",
       "  <tbody>\n",
       "    <tr>\n",
       "      <th>0</th>\n",
       "      <td>ML</td>\n",
       "      <td>DEBIT CARD PURCHASE, AUT 070419 VISA DDA PUR</td>\n",
       "      <td>1.0</td>\n",
       "      <td>0.0</td>\n",
       "      <td>Office Expense</td>\n",
       "    </tr>\n",
       "    <tr>\n",
       "      <th>1</th>\n",
       "      <td>ML</td>\n",
       "      <td>DEBIT CARD PURCHASE, AUT 070419 VISA DDA PUR</td>\n",
       "      <td>1.0</td>\n",
       "      <td>0.0</td>\n",
       "      <td>Office Expense</td>\n",
       "    </tr>\n",
       "    <tr>\n",
       "      <th>2</th>\n",
       "      <td>ML</td>\n",
       "      <td>DEBIT CARD PURCHASE, AUT 070419 VISA DDA PUR</td>\n",
       "      <td>1.0</td>\n",
       "      <td>0.0</td>\n",
       "      <td>Office Expense</td>\n",
       "    </tr>\n",
       "    <tr>\n",
       "      <th>3</th>\n",
       "      <td>ML</td>\n",
       "      <td>DEBIT CARD PURCHASE, AUT 070419 VISA DDA PUR</td>\n",
       "      <td>1.0</td>\n",
       "      <td>0.0</td>\n",
       "      <td>Office Expense</td>\n",
       "    </tr>\n",
       "    <tr>\n",
       "      <th>4</th>\n",
       "      <td>ML</td>\n",
       "      <td>DEBIT CARD PURCHASE, AUT 070419 VISA DDA PUR</td>\n",
       "      <td>1.0</td>\n",
       "      <td>0.0</td>\n",
       "      <td>Office Expense</td>\n",
       "    </tr>\n",
       "  </tbody>\n",
       "</table>\n",
       "</div>"
      ],
      "text/plain": [
       "  class_method                                   description  is_confirm  \\\n",
       "0           ML  DEBIT CARD PURCHASE, AUT 070419 VISA DDA PUR         1.0   \n",
       "1           ML  DEBIT CARD PURCHASE, AUT 070419 VISA DDA PUR         1.0   \n",
       "2           ML  DEBIT CARD PURCHASE, AUT 070419 VISA DDA PUR         1.0   \n",
       "3           ML  DEBIT CARD PURCHASE, AUT 070419 VISA DDA PUR         1.0   \n",
       "4           ML  DEBIT CARD PURCHASE, AUT 070419 VISA DDA PUR         1.0   \n",
       "\n",
       "   is_confirm_client        category  \n",
       "0                0.0  Office Expense  \n",
       "1                0.0  Office Expense  \n",
       "2                0.0  Office Expense  \n",
       "3                0.0  Office Expense  \n",
       "4                0.0  Office Expense  "
      ]
     },
     "execution_count": 14,
     "metadata": {},
     "output_type": "execute_result"
    }
   ],
   "source": [
    "def balanceCategorySize(df):\n",
    "    category_set = df['category'].unique()\n",
    "    avg = np.mean([len(df[df['category'] == x]) for x in category_set])\n",
    "    df_balanced = pd.DataFrame( columns= df.columns)\n",
    "    for category in category_set:\n",
    "        x = df[df['category']== category]\n",
    "        new_x = x\n",
    "        while(len(new_x) < avg):\n",
    "            new_x = pd.concat([new_x,x])\n",
    "        df_balanced = pd.concat([df_balanced, new_x])\n",
    "    return df_balanced\n"
   ]
  },
  {
   "cell_type": "code",
   "execution_count": null,
   "metadata": {},
   "outputs": [],
   "source": [
    "#让数据分布更均衡\n",
    "df_balance = balanceCategorySize(df_confirm)\n",
    "df_balance.head()"
   ]
  },
  {
   "cell_type": "code",
   "execution_count": 15,
   "metadata": {
    "scrolled": true
   },
   "outputs": [
    {
     "data": {
      "image/png": "[encoded data removed]",
      "text/plain": [
       "<Figure size 720x432 with 1 Axes>"
      ]
     },
     "metadata": {},
     "output_type": "display_data"
    }
   ],
   "source": [
    "CategorySizePieChart(df_balance)"
   ]
  },
  {
   "cell_type": "code",
   "execution_count": 16,
   "metadata": {},
   "outputs": [],
   "source": [
    "#save df_balace as df_confirm\n",
    "df_confirm = df_balance"
   ]
  },
  {
   "cell_type": "markdown",
   "metadata": {},
   "source": [
    "### _Function Enlarge_data_\n",
    "- Parameters: \n",
    "              1. df: dataframe that need to be enlarge\n",
    "              2. int size: the minimum size that user wants; default is 5000\n",
    "- Returns   : dataframe that has length > size\n",
    "- Does      : enlarge length of the dataframe to greater than or equal to 5000"
   ]
  },
  {
   "cell_type": "code",
   "execution_count": 17,
   "metadata": {},
   "outputs": [],
   "source": [
    "def Enlarge_data(df, size = 5000):\n",
    "    print('Data size w/out unconfirm data: ',len(df),'\\n')\n",
    "    df_large = df\n",
    "    while(len(df_large) < size):\n",
    "        df_large = pd.concat([df_large,df])\n",
    "\n",
    "    print('Current data size',len(df_large))\n",
    "    return df_large"
   ]
  },
  {
   "cell_type": "code",
   "execution_count": 18,
   "metadata": {},
   "outputs": [
    {
     "name": "stdout",
     "output_type": "stream",
     "text": [
      "Data size w/out unconfirm data:  4566 \n",
      "\n",
      "Current data size 9132\n"
     ]
    }
   ],
   "source": [
    "df_clean = Enlarge_data(df_confirm, 6000)"
   ]
  },
  {
   "cell_type": "code",
   "execution_count": 19,
   "metadata": {},
   "outputs": [],
   "source": [
    "#testing for adding unknown value\n",
    "#df_unknown = df_clean[df_clean['category'] == 'Office Expense']\n",
    "#df_clean = df_clean[df_clean['category'] != 'Office Expense']\n",
    "#df_unknown.head()"
   ]
  },
  {
   "cell_type": "markdown",
   "metadata": {},
   "source": [
    "### _Function get_stopwords_\n",
    "- Parameters: the path to find the stopword file\n",
    "- Returns   : a set of the stopwords\n",
    "- Does      : generate a set of stopwords from the given file"
   ]
  },
  {
   "cell_type": "code",
   "execution_count": 20,
   "metadata": {},
   "outputs": [],
   "source": [
    "def get_stopwords(stop_file_path):\n",
    "    #load stop words  \n",
    "    with open(stop_file_path, 'r', encoding=\"utf-8\") as f:\n",
    "        stopwords = f.readlines()\n",
    "        stop_set = set(m.strip() for m in stopwords)\n",
    "        return frozenset(stop_set)"
   ]
  },
  {
   "cell_type": "code",
   "execution_count": 21,
   "metadata": {},
   "outputs": [],
   "source": [
    "#Todo: 1. find more stopwords\n",
    "#load a set of stop words\n",
    "additional_stopwords=get_stopwords(\"assets/stopwords.txt\")\n",
    "\n",
    "stopwords = text.ENGLISH_STOP_WORDS.union(additional_stopwords)\n",
    "#stopwords"
   ]
  },
  {
   "cell_type": "code",
   "execution_count": 22,
   "metadata": {},
   "outputs": [
    {
     "data": {
      "text/plain": [
       "['DEBIT CARD PURCHASE, AUT 070419 VISA DDA PUR',\n",
       " 'DEBIT CARD PURCHASE, AUT 040119 VISA DDA PUR',\n",
       " 'DEBIT CARD PURCHASE, AUT 040219 VISA DDA PUR',\n",
       " 'DEBIT CARD PURCHASE, AUT 051419 VISA DDA PUR',\n",
       " 'DEBIT CARD PURCHASE, AUT 020619 VISA DDA PUR',\n",
       " 'DEBIT CARD PURCHASE, AUT 040519 VISA DDA PUR',\n",
       " 'DEBIT CARD PURCHASE, AUT 030619 VISA DDA PUR',\n",
       " 'DEBIT CARD PURCHASE, AUT 022119 VISA DDA PUR',\n",
       " 'DEBIT CARD PURCHASE, AUT 082119 VISA DDA PUR',\n",
       " 'DEBIT CARD PURCHASE, AUT 082619 VISA DDA PUR',\n",
       " 'DEBIT CARD PURCHASE, AUT 081919 VISA DDA PUR',\n",
       " 'DEBIT CARD PURCHASE, AUT 012619 VISA DDA PUR',\n",
       " 'DEBIT CARD PURCHASE, AUT 060819 VISA DDA PUR',\n",
       " 'DEBIT CARD PURCHASE, AUT 052319 VISA DDA PUR',\n",
       " 'DEBIT CARD PURCHASE, AUT 080219 VISA DDA PUR',\n",
       " 'DEBIT CARD CREDIT, AUT 041919 VISA DDA REF',\n",
       " 'DEBIT CARD PURCHASE, AUT 030419 VISA DDA PUR',\n",
       " 'DEBIT CARD PURCHASE, AUT 052819 VISA DDA PUR',\n",
       " 'DEBIT CARD PURCHASE, AUT 080919 VISA DDA PUR',\n",
       " 'DEBIT CARD PURCHASE, AUT 071619 VISA DDA PUR',\n",
       " 'DEBIT CARD PURCHASE, AUT 080619 VISA DDA PUR',\n",
       " 'DEBIT CARD CREDIT, AUT 051919 VISA DDA REF',\n",
       " 'DEBIT CARD PURCHASE, AUT 032019 VISA DDA PUR',\n",
       " 'DEBIT CARD PURCHASE, AUT 082219 VISA DDA PUR',\n",
       " 'DEBIT CARD CREDIT, AUT 030219 VISA DDA REF',\n",
       " 'DEBIT CARD PURCHASE, AUT 011119 VISA DDA PUR',\n",
       " 'DEBIT CARD PURCHASE, AUT 020419 VISA DDA PUR',\n",
       " 'VISA DDA PUR 449215 PAYPAL LUCKYORANGE *',\n",
       " 'DEBIT CARD PURCHASE, AUT 050119 VISA DDA PUR',\n",
       " 'DEBIT CARD PURCHASE, AUT 011619 VISA DDA PUR',\n",
       " 'DEBIT CARD PURCHASE, AUT 011719 VISA DDA PUR',\n",
       " 'DEBIT CARD PURCHASE, AUT 050719 VISA DDA PUR',\n",
       " 'DEBIT CARD PURCHASE, AUT 030119 VISA DDA PUR',\n",
       " 'DEBIT CARD PURCHASE, AUT 021319 VISA DDA PUR',\n",
       " 'DEBIT CARD PURCHASE, AUT 022319 VISA DDA PUR',\n",
       " 'DEBIT CARD PURCHASE, AUT 080719 VISA DDA PUR',\n",
       " 'DEBIT CARD PURCHASE, AUT 052119 VISA DDA PUR',\n",
       " 'DEBIT CARD PURCHASE, AUT 080419 VISA DDA PUR',\n",
       " 'DEBIT CARD CREDIT, AUT 020819 VISA DDA REF',\n",
       " 'DEBIT CARD PURCHASE, AUT 051219 VISA DDA PUR',\n",
       " 'DEBIT CARD PURCHASE, AUT 010719 VISA DDA PUR',\n",
       " 'DEBIT CARD PURCHASE, AUT 010819 VISA DDA PUR',\n",
       " 'DEBIT CARD PURCHASE, AUT 052719 VISA DDA PUR',\n",
       " 'DEBIT CARD PURCHASE, AUT 010919 VISA DDA PUR',\n",
       " 'DEBIT CARD PURCHASE, AUT 051619 VISA DDA PUR',\n",
       " 'VISA DDA PUR 469216 INTUIT QUICKBOOKS *',\n",
       " 'DEBIT CARD PURCHASE, AUT 052019 VISA DDA PUR',\n",
       " 'DEBIT CARD PURCHASE, AUT 042519 VISA DDA PUR',\n",
       " 'DEBIT CARD CREDIT, AUT 011019 VISA DDA REF',\n",
       " 'DEBIT CARD PURCHASE, AUT 060119 VISA DDA PUR',\n",
       " 'DEBIT CARD CREDIT, AUT 041319 VISA DDA REF',\n",
       " 'DEBIT CARD PURCHASE, AUT 041619 VISA DDA PUR',\n",
       " 'DEBIT CARD PURCHASE, AUT 021719 VISA DDA PUR',\n",
       " 'DEBIT CARD PURCHASE, AUT 012419 VISA DDA PUR',\n",
       " 'DEBIT CARD PURCHASE, AUT 052919 VISA DDA PUR',\n",
       " 'DEBIT CARD PURCHASE, AUT 080119 VISA DDA PUR',\n",
       " 'DEBIT CARD PURCHASE, AUT 090219 VISA DDA PUR',\n",
       " 'DEBIT CARD PURCHASE, AUT 081819 VISA DDA PUR',\n",
       " 'DEBIT CARD PURCHASE, AUT 061219 VISA DDA PUR',\n",
       " 'DEBIT CARD PURCHASE, AUT 021519 VISA DDA PUR',\n",
       " 'DEBIT CARD PURCHASE, AUT 061719 VISA DDA PUR',\n",
       " 'DEBIT CARD PURCHASE, AUT 012119 VISA DDA PUR',\n",
       " 'DEBIT CARD PURCHASE, AUT 051819 VISA DDA PUR',\n",
       " 'DEBIT CARD PURCHASE, AUT 011819 VISA DDA PUR',\n",
       " 'DEBIT CARD PURCHASE, AUT 010419 VISA DDA PUR',\n",
       " 'DEBIT CARD PURCHASE, AUT 082319 VISA DDA PUR',\n",
       " 'DEBIT CARD PURCHASE, AUT 021219 VISA DDA PUR',\n",
       " 'DEBIT CARD PURCHASE, AUT 060419 VISA DDA PUR',\n",
       " 'DEBIT CARD PURCHASE, AUT 050819 VISA DDA PUR',\n",
       " 'DEBIT CARD CREDIT, AUT 061519 VISA DDA REF',\n",
       " 'DEBIT CARD PURCHASE, AUT 082819 VISA DDA PUR',\n",
       " 'DEBIT CARD PURCHASE, AUT 060619 VISA DDA PUR',\n",
       " 'DEBIT CARD CREDIT, AUT 060719 VISA DDA REF',\n",
       " 'DEBIT CARD PURCHASE, AUT 040619 VISA DDA PUR',\n",
       " 'DEBIT CARD CREDIT, AUT 052919 VISA DDA REF',\n",
       " 'DEBIT CARD CREDIT, AUT 030819 VISA DDA REF',\n",
       " 'DEBIT CARD PURCHASE, AUT 020119 VISA DDA PUR',\n",
       " 'DEBIT CARD PURCHASE, AUT 080819 VISA DDA PUR',\n",
       " 'DEBIT CARD PURCHASE, AUT 010119 VISA DDA PUR',\n",
       " 'DEBIT CARD PURCHASE, AUT 071819 VISA DDA PUR',\n",
       " 'DEBIT CARD PURCHASE, AUT 050419 VISA DDA PUR',\n",
       " 'DEBIT CARD PURCHASE, AUT 082019 VISA DDA PUR',\n",
       " 'DEBIT CARD PURCHASE, AUT 012319 VISA DDA PUR',\n",
       " 'DEBIT CARD PURCHASE, AUT 072119 VISA DDA PUR',\n",
       " 'DEBIT CARD CREDIT, AUT 061419 VISA DDA REF',\n",
       " 'DEBIT CARD PURCHASE, AUT 081419 VISA DDA PUR',\n",
       " 'DEBIT CARD PURCHASE, AUT 061119 VISA DDA PUR',\n",
       " 'DEBIT CARD PURCHASE, AUT 042619 VISA DDA PUR',\n",
       " 'DEBIT CARD CREDIT, AUT 020919 VISA DDA REF',\n",
       " 'DEBIT CARD PURCHASE, AUT 011519 VISA DDA PUR',\n",
       " 'DEBIT CARD PURCHASE, AUT 070119 VISA DDA PUR',\n",
       " 'DEBIT CARD PURCHASE, AUT 081319 VISA DDA PUR',\n",
       " 'DEBIT CARD PURCHASE, AUT 020819 VISA DDA PUR',\n",
       " 'DEBIT CARD PURCHASE, AUT 012519 VISA DDA PUR',\n",
       " 'DEBIT CARD PURCHASE, AUT 062219 VISA DDA PUR',\n",
       " 'DEBIT CARD PURCHASE, AUT 050219 VISA DDA PUR',\n",
       " 'DEBIT CARD PURCHASE, AUT 031419 VISA DDA PUR',\n",
       " 'DEBIT CARD PURCHASE, AUT 123018 VISA DDA PUR',\n",
       " 'DEBIT CARD PURCHASE, AUT 020519 VISA DDA PUR',\n",
       " 'DEBIT CARD PURCHASE, AUT 012719 VISA DDA PUR',\n",
       " 'DEBIT CARD PURCHASE, AUT 022519 VISA DDA PUR',\n",
       " 'DEBIT CARD CREDIT, AUT 022519 VISA DDA REF',\n",
       " 'DEBIT CARD PURCHASE, AUT 060519 VISA DDA PUR',\n",
       " 'DEBIT CARD PURCHASE, AUT 050319 VISA DDA PUR',\n",
       " 'DEBIT CARD PURCHASE, AUT 040419 VISA DDA PUR',\n",
       " 'DEBIT',\n",
       " 'Venmo',\n",
       " 'VISA DDA PUR 449215 PAYPAL BRIAN *',\n",
       " 'VISA DDA PUR 424818 PAYPAL MAGDINAALLA VISA DIRECT *',\n",
       " 'VISA DDA REF 448347 UPWORK 255881362JOBPOST 165 08534100 *',\n",
       " 'VISA DDA PUR 473309 BLS SEMRUSH *',\n",
       " 'eTransfer Credit, Online Xfer']"
      ]
     },
     "execution_count": 22,
     "metadata": {},
     "output_type": "execute_result"
    }
   ],
   "source": [
    "#uncomment the line below to see description before clean\n",
    "df_clean[\"description\"].unique().tolist()"
   ]
  },
  {
   "cell_type": "code",
   "execution_count": 23,
   "metadata": {},
   "outputs": [
    {
     "data": {
      "text/html": [
       "<div>\n",
       "<style scoped>\n",
       "    .dataframe tbody tr th:only-of-type {\n",
       "        vertical-align: middle;\n",
       "    }\n",
       "\n",
       "    .dataframe tbody tr th {\n",
       "        vertical-align: top;\n",
       "    }\n",
       "\n",
       "    .dataframe thead th {\n",
       "        text-align: right;\n",
       "    }\n",
       "</style>\n",
       "<table border=\"1\" class=\"dataframe\">\n",
       "  <thead>\n",
       "    <tr style=\"text-align: right;\">\n",
       "      <th></th>\n",
       "      <th>class_method</th>\n",
       "      <th>is_confirm</th>\n",
       "      <th>is_confirm_client</th>\n",
       "      <th>category</th>\n",
       "      <th>description</th>\n",
       "    </tr>\n",
       "  </thead>\n",
       "  <tbody>\n",
       "    <tr>\n",
       "      <th>1042</th>\n",
       "      <td>ML</td>\n",
       "      <td>1.0</td>\n",
       "      <td>0.0</td>\n",
       "      <td>Office Expense</td>\n",
       "      <td>DEBIT CARD PURCHASE AUT  VISA DDA PUR</td>\n",
       "    </tr>\n",
       "    <tr>\n",
       "      <th>1043</th>\n",
       "      <td>ML</td>\n",
       "      <td>1.0</td>\n",
       "      <td>0.0</td>\n",
       "      <td>Office Expense</td>\n",
       "      <td>DEBIT CARD PURCHASE AUT  VISA DDA PUR</td>\n",
       "    </tr>\n",
       "    <tr>\n",
       "      <th>1044</th>\n",
       "      <td>ML</td>\n",
       "      <td>1.0</td>\n",
       "      <td>0.0</td>\n",
       "      <td>Office Expense</td>\n",
       "      <td>DEBIT CARD PURCHASE AUT  VISA DDA PUR</td>\n",
       "    </tr>\n",
       "    <tr>\n",
       "      <th>1045</th>\n",
       "      <td>ML</td>\n",
       "      <td>1.0</td>\n",
       "      <td>0.0</td>\n",
       "      <td>Office Expense</td>\n",
       "      <td>DEBIT CARD PURCHASE AUT  VISA DDA PUR</td>\n",
       "    </tr>\n",
       "    <tr>\n",
       "      <th>1046</th>\n",
       "      <td>ML</td>\n",
       "      <td>1.0</td>\n",
       "      <td>0.0</td>\n",
       "      <td>Office Expense</td>\n",
       "      <td>DEBIT CARD PURCHASE AUT  VISA DDA PUR</td>\n",
       "    </tr>\n",
       "    <tr>\n",
       "      <th>1047</th>\n",
       "      <td>ML</td>\n",
       "      <td>1.0</td>\n",
       "      <td>0.0</td>\n",
       "      <td>Office Expense</td>\n",
       "      <td>DEBIT CARD PURCHASE AUT  VISA DDA PUR</td>\n",
       "    </tr>\n",
       "    <tr>\n",
       "      <th>1048</th>\n",
       "      <td>ML</td>\n",
       "      <td>1.0</td>\n",
       "      <td>0.0</td>\n",
       "      <td>Office Expense</td>\n",
       "      <td>DEBIT CARD PURCHASE AUT  VISA DDA PUR</td>\n",
       "    </tr>\n",
       "  </tbody>\n",
       "</table>\n",
       "</div>"
      ],
      "text/plain": [
       "     class_method  is_confirm  is_confirm_client        category  \\\n",
       "1042           ML         1.0                0.0  Office Expense   \n",
       "1043           ML         1.0                0.0  Office Expense   \n",
       "1044           ML         1.0                0.0  Office Expense   \n",
       "1045           ML         1.0                0.0  Office Expense   \n",
       "1046           ML         1.0                0.0  Office Expense   \n",
       "1047           ML         1.0                0.0  Office Expense   \n",
       "1048           ML         1.0                0.0  Office Expense   \n",
       "\n",
       "                                description  \n",
       "1042  DEBIT CARD PURCHASE AUT  VISA DDA PUR  \n",
       "1043  DEBIT CARD PURCHASE AUT  VISA DDA PUR  \n",
       "1044  DEBIT CARD PURCHASE AUT  VISA DDA PUR  \n",
       "1045  DEBIT CARD PURCHASE AUT  VISA DDA PUR  \n",
       "1046  DEBIT CARD PURCHASE AUT  VISA DDA PUR  \n",
       "1047  DEBIT CARD PURCHASE AUT  VISA DDA PUR  \n",
       "1048  DEBIT CARD PURCHASE AUT  VISA DDA PUR  "
      ]
     },
     "execution_count": 23,
     "metadata": {},
     "output_type": "execute_result"
    }
   ],
   "source": [
    "#remove all the puntuation/number\n",
    "df_clean[\"clean_description\"] = df_clean['description'].str.replace('\\d{2,}|[^\\w\\s]','')\n",
    "df_clean = df_clean.drop(columns = 'description')\n",
    "df_clean = df_clean.rename(columns={'clean_description': 'description'})\n",
    "df_clean[118:125]"
   ]
  },
  {
   "cell_type": "code",
   "execution_count": 24,
   "metadata": {},
   "outputs": [
    {
     "data": {
      "text/plain": [
       "['DEBIT CARD PURCHASE AUT  VISA DDA PUR',\n",
       " 'DEBIT CARD CREDIT AUT  VISA DDA REF',\n",
       " 'VISA DDA PUR  PAYPAL LUCKYORANGE ',\n",
       " 'VISA DDA PUR  INTUIT QUICKBOOKS ',\n",
       " 'DEBIT',\n",
       " 'Venmo',\n",
       " 'VISA DDA PUR  PAYPAL BRIAN ',\n",
       " 'VISA DDA PUR  PAYPAL MAGDINAALLA VISA DIRECT ',\n",
       " 'VISA DDA REF  UPWORK JOBPOST   ',\n",
       " 'VISA DDA PUR  BLS SEMRUSH ',\n",
       " 'eTransfer Credit Online Xfer']"
      ]
     },
     "execution_count": 24,
     "metadata": {},
     "output_type": "execute_result"
    }
   ],
   "source": [
    "#uncomment the line to check on the clean description\n",
    "df_clean[\"description\"].unique().tolist()"
   ]
  },
  {
   "cell_type": "code",
   "execution_count": 25,
   "metadata": {},
   "outputs": [
    {
     "name": "stdout",
     "output_type": "stream",
     "text": [
      "\n"
     ]
    }
   ],
   "source": [
    "print()"
   ]
  },
  {
   "cell_type": "markdown",
   "metadata": {},
   "source": [
    "## Train/Test dataset for Description\n",
    "<hr>"
   ]
  },
  {
   "cell_type": "code",
   "execution_count": 26,
   "metadata": {},
   "outputs": [],
   "source": [
    "# Split data into training and test sets\n",
    "X_train, X_test, y_train, y_test = train_test_split(df_clean['description'], \n",
    "                                                    df_clean['category'], \n",
    "                                                    random_state=3, test_size = 0.3)"
   ]
  },
  {
   "cell_type": "code",
   "execution_count": null,
   "metadata": {},
   "outputs": [],
   "source": [
    "#print(df)"
   ]
  },
  {
   "cell_type": "code",
   "execution_count": 27,
   "metadata": {},
   "outputs": [
    {
     "name": "stdout",
     "output_type": "stream",
     "text": [
      "\n",
      "y_train shape:  (6392,) \n",
      "\n",
      "X_train shape:  (6392,)\n",
      "\n",
      "y_test shape:  (2740,) \n",
      "\n",
      "X_test shape:  (2740,)\n"
     ]
    }
   ],
   "source": [
    "print('\\ny_train shape: ', y_train.shape, '\\n\\nX_train shape: ', X_train.shape)\n",
    "print('\\ny_test shape: ', y_test.shape, '\\n\\nX_test shape: ', X_test.shape)"
   ]
  },
  {
   "cell_type": "markdown",
   "metadata": {},
   "source": [
    "<h2 id=\"#modeling\">Modeling</h2>\n",
    "<hr>"
   ]
  },
  {
   "cell_type": "code",
   "execution_count": 28,
   "metadata": {},
   "outputs": [
    {
     "data": {
      "text/plain": [
       "LinearSVC(C=1.0, class_weight=None, dual=True, fit_intercept=True,\n",
       "          intercept_scaling=1, loss='squared_hinge', max_iter=1000,\n",
       "          multi_class='ovr', penalty='l2', random_state=None, tol=0.0001,\n",
       "          verbose=0)"
      ]
     },
     "execution_count": 28,
     "metadata": {},
     "output_type": "execute_result"
    }
   ],
   "source": [
    "#Todo: 1. 对parameter 有更多调整\n",
    "#         a. 例如countVectorizer dictionary，df max and min\n",
    "vect = CountVectorizer(min_df=2,strip_accents='unicode',lowercase =True,\n",
    "                            analyzer='word', token_pattern=r'\\w+',stop_words = stopwords)\n",
    "tfdif = TfidfTransformer()\n",
    "svc = svm.LinearSVC(C=1.0,penalty='l2',loss='squared_hinge')\n",
    "svc"
   ]
  },
  {
   "cell_type": "code",
   "execution_count": 29,
   "metadata": {},
   "outputs": [],
   "source": [
    "#create pipeline for text classification\n",
    "text_clf = Pipeline([\n",
    "    ('vect', vect),\n",
    "    ('tfidf', tfdif),\n",
    "    ('svc', svc)\n",
    "    \n",
    "])"
   ]
  },
  {
   "cell_type": "code",
   "execution_count": 30,
   "metadata": {},
   "outputs": [
    {
     "data": {
      "text/plain": [
       "Pipeline(memory=None,\n",
       "         steps=[('vect',\n",
       "                 CountVectorizer(analyzer='word', binary=False,\n",
       "                                 decode_error='strict',\n",
       "                                 dtype=<class 'numpy.int64'>, encoding='utf-8',\n",
       "                                 input='content', lowercase=True, max_df=1.0,\n",
       "                                 max_features=None, min_df=2,\n",
       "                                 ngram_range=(1, 1), preprocessor=None,\n",
       "                                 stop_words=frozenset({'\"', '#', ',', '/', 'a',\n",
       "                                                       'about', 'above',\n",
       "                                                       'across', 'after',\n",
       "                                                       'afterwards', 'again',\n",
       "                                                       'a...\n",
       "                                 strip_accents='unicode', token_pattern='\\\\w+',\n",
       "                                 tokenizer=None, vocabulary=None)),\n",
       "                ('tfidf',\n",
       "                 TfidfTransformer(norm='l2', smooth_idf=True,\n",
       "                                  sublinear_tf=False, use_idf=True)),\n",
       "                ('svc',\n",
       "                 LinearSVC(C=1.0, class_weight=None, dual=True,\n",
       "                           fit_intercept=True, intercept_scaling=1,\n",
       "                           loss='squared_hinge', max_iter=1000,\n",
       "                           multi_class='ovr', penalty='l2', random_state=None,\n",
       "                           tol=0.0001, verbose=0))],\n",
       "         verbose=False)"
      ]
     },
     "execution_count": 30,
     "metadata": {},
     "output_type": "execute_result"
    }
   ],
   "source": [
    "text_clf.fit(X_train,y_train)"
   ]
  },
  {
   "cell_type": "code",
   "execution_count": 31,
   "metadata": {},
   "outputs": [
    {
     "name": "stdout",
     "output_type": "stream",
     "text": [
      "['Commission Expense' 'Contractor' 'Marketing Expense' 'Office Expense'\n",
      " 'Sales Revenue']\n"
     ]
    }
   ],
   "source": [
    "#print(len(vect.get_feature_names()))\n",
    "#print(svc.intercept_)\n",
    "#print(len(svc.coef_[1]))\n",
    "print(svc.classes_)\n",
    "#print(vect.get_feature_names())"
   ]
  },
  {
   "cell_type": "markdown",
   "metadata": {},
   "source": [
    "### _Function predict_\n",
    "- Parameters: a decision_function array of the pre-trained data and a list of class names\n",
    "- Returns   : prediction for the object\n",
    "- Does      : Perform classification on samples in decision function."
   ]
  },
  {
   "cell_type": "code",
   "execution_count": 32,
   "metadata": {
    "scrolled": true
   },
   "outputs": [],
   "source": [
    "def predict(decision_func,cs):\n",
    "    ''' decision_fun = decision function\n",
    "        cs = list of class names      \n",
    "    '''\n",
    "    count = 0\n",
    "    pred = [None] * len(decision_func)\n",
    "    confidence=[None]*len(decision_func[0])\n",
    "    for transaction in decision_func:\n",
    "        num_confident = 0\n",
    "        for idx in range(len(transaction)):\n",
    "            confidence_score = transaction[idx]\n",
    "            if(confidence_score > 0):\n",
    "                confidence[idx] = confidence_score\n",
    "                pred[count] = cs[idx];\n",
    "                num_confident += 1;\n",
    "            else:\n",
    "                confidence[idx] = 0\n",
    "            \n",
    "            # find std deviation of x if std dev is < 0.4\n",
    "        if(num_confident != 1 and np.std(confidence)<0.4):\n",
    "            pred[count] = 'unknown' \n",
    "        elif(num_confident != 1):\n",
    "            pred[count] = cs[confidence.index(max(confidence))]\n",
    "            \n",
    "            \n",
    "        count += 1\n",
    "    return pred\n",
    "            \n",
    "    "
   ]
  },
  {
   "cell_type": "code",
   "execution_count": 33,
   "metadata": {},
   "outputs": [
    {
     "name": "stdout",
     "output_type": "stream",
     "text": [
      "Test set Accuracy:  1.0\n"
     ]
    }
   ],
   "source": [
    "decision_func = text_clf['svc'].decision_function(vect.transform(X_train))\n",
    "cs = text_clf['svc'].classes_\n",
    "temp= predict(decision_func,cs)\n",
    "#print(temp)\n",
    "print(\"Test set Accuracy: \", accuracy_score(predict(decision_func,cs), y_train))"
   ]
  },
  {
   "cell_type": "markdown",
   "metadata": {},
   "source": [
    "<h2 id=\"#model Persistence\">Model Persistence</h2>\n",
    "<hr>\n",
    "use joblib’s dump & load to persist the SVM model."
   ]
  },
  {
   "cell_type": "code",
   "execution_count": 34,
   "metadata": {
    "scrolled": false
   },
   "outputs": [
    {
     "data": {
      "text/plain": [
       "['Model/text_SVM_clf.pkl']"
      ]
     },
     "execution_count": 34,
     "metadata": {},
     "output_type": "execute_result"
    }
   ],
   "source": [
    "joblib.dump(text_clf,'Model/text_SVM_clf.pkl')"
   ]
  },
  {
   "cell_type": "markdown",
   "metadata": {},
   "source": [
    "<h2 id=\"#model evaluation\">Model Evaluation</h2>\n",
    "<hr>\n",
    "load back the pickled model"
   ]
  },
  {
   "cell_type": "code",
   "execution_count": 35,
   "metadata": {},
   "outputs": [
    {
     "name": "stdout",
     "output_type": "stream",
     "text": [
      "Test set Accuracy:  1.0\n"
     ]
    }
   ],
   "source": [
    "test_clf=joblib.load('Model/text_SVM_clf.pkl')\n",
    "pred = test_clf.predict(X_test)\n",
    "print(\"Test set Accuracy: \", accuracy_score(y_test, pred))"
   ]
  },
  {
   "cell_type": "markdown",
   "metadata": {},
   "source": [
    "# cross val score"
   ]
  },
  {
   "cell_type": "code",
   "execution_count": 42,
   "metadata": {},
   "outputs": [
    {
     "name": "stdout",
     "output_type": "stream",
     "text": [
      "Evaluation on the accuracy:100.000%(0.000%)\n"
     ]
    }
   ],
   "source": [
    "#Using Cross Validation to evaluate model\n",
    "from sklearn.model_selection import cross_val_score\n",
    "result = cross_val_score(text_clf,df_clean['description'],df_clean['category'],cv=5)\n",
    "print('Evaluation on the accuracy:%.3f%%(%.3f%%)'%(result.mean()*100,result.std()*100))"
   ]
  },
  {
   "cell_type": "markdown",
   "metadata": {},
   "source": [
    "# confusion_matrix"
   ]
  },
  {
   "cell_type": "markdown",
   "metadata": {},
   "source": [
    "A = {'Contractor', 'Office Expense', 'Commission Expense','Marketing Expense','Sales Revenue'...}\n",
    "a is element of A\n",
    "* True Positive (TP): the model predicted that a category is A and it actually is.\n",
    "* True Negative (TN): the model predicted that a category is not A and it actually is not.\n",
    "* False Positive (FP): the model predicted that a category is A but it actually is not. - type 1 error -\n",
    "* False Negative (FN): the model predicted that a categrory is not A but it actually is. - type 2 error -"
   ]
  },
  {
   "cell_type": "code",
   "execution_count": 36,
   "metadata": {},
   "outputs": [
    {
     "data": {
      "text/plain": [
       "array([[532,   0,   0,   0,   0],\n",
       "       [  0, 461,   0,   0,   0],\n",
       "       [  0,   0, 387,   0,   0],\n",
       "       [  0,   0,   0, 992,   0],\n",
       "       [  0,   0,   0,   0, 368]])"
      ]
     },
     "execution_count": 36,
     "metadata": {},
     "output_type": "execute_result"
    }
   ],
   "source": [
    "from sklearn.metrics import confusion_matrix\n",
    "confusion_matrix(y_test, pred, labels = svc.classes_)"
   ]
  },
  {
   "cell_type": "code",
   "execution_count": 37,
   "metadata": {},
   "outputs": [],
   "source": [
    "#from sklearn.metrics import multilabel_confusion_matrix\n",
    "#multilabel_confusion_matrix(y_test, pred, labels = df_clean['category'].unique())"
   ]
  },
  {
   "cell_type": "markdown",
   "metadata": {},
   "source": [
    "* Precision: TP/(TP + FP); the ratio of correctly predicted positive categories to the total predicted positive categories. \n",
    "* Recall: TP/(TP + FN); the ratio of correctly predicted positive categories to the all categories in actual class"
   ]
  },
  {
   "cell_type": "code",
   "execution_count": 38,
   "metadata": {
    "scrolled": true
   },
   "outputs": [
    {
     "name": "stdout",
     "output_type": "stream",
     "text": [
      "                    precision    recall  f1-score   support\n",
      "\n",
      "Commission Expense       1.00      1.00      1.00       532\n",
      "        Contractor       1.00      1.00      1.00       461\n",
      " Marketing Expense       1.00      1.00      1.00       387\n",
      "    Office Expense       1.00      1.00      1.00       992\n",
      "     Sales Revenue       1.00      1.00      1.00       368\n",
      "\n",
      "          accuracy                           1.00      2740\n",
      "         macro avg       1.00      1.00      1.00      2740\n",
      "      weighted avg       1.00      1.00      1.00      2740\n",
      "\n"
     ]
    }
   ],
   "source": [
    "from sklearn.metrics import classification_report\n",
    "print(classification_report(y_test, pred))"
   ]
  },
  {
   "cell_type": "markdown",
   "metadata": {},
   "source": [
    "# Parameter tuning using grid search"
   ]
  },
  {
   "cell_type": "code",
   "execution_count": 56,
   "metadata": {},
   "outputs": [
    {
     "name": "stdout",
     "output_type": "stream",
     "text": [
      "{'svc__C': 1.01, 'tfidf__use_idf': True, 'vect__ngram_range': (1, 1)}\n"
     ]
    }
   ],
   "source": [
    "from sklearn.model_selection import GridSearchCV\n",
    "param = {'svc__C':np.arange(0.01,10),\n",
    "        #'svc__penalty': ['l1', 'l2'],\n",
    "        'vect__ngram_range': [(1, 1), (1, 2)],\n",
    "        'tfidf__use_idf': (True, False)}\n",
    "linearSVC = GridSearchCV(test_clf,param,cv=5,return_train_score=True)\n",
    "linearSVC.fit(X_train,y_train)\n",
    "print(linearSVC.best_params_)"
   ]
  },
  {
   "cell_type": "code",
   "execution_count": null,
   "metadata": {},
   "outputs": [],
   "source": []
  }
 ],
 "metadata": {
  "kernelspec": {
   "display_name": "Python 3",
   "language": "python",
   "name": "python3"
  },
  "language_info": {
   "codemirror_mode": {
    "name": "ipython",
    "version": 3
   },
   "file_extension": ".py",
   "mimetype": "text/x-python",
   "name": "python",
   "nbconvert_exporter": "python",
   "pygments_lexer": "ipython3",
   "version": "3.8.3"
  }
 },
 "nbformat": 4,
 "nbformat_minor": 4
}
